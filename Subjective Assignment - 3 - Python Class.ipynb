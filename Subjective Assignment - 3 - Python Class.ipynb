{
 "cells": [
  {
   "cell_type": "markdown",
   "metadata": {},
   "source": [
    "# Assignment"
   ]
  },
  {
   "cell_type": "markdown",
   "metadata": {},
   "source": [
    "Q1. Write the Python class to convert an integer to a roman numeral?"
   ]
  },
  {
   "cell_type": "code",
   "execution_count": 3,
   "metadata": {},
   "outputs": [
    {
     "data": {
      "text/plain": [
       "'MCMDMCM'"
      ]
     },
     "execution_count": 3,
     "metadata": {},
     "output_type": "execute_result"
    }
   ],
   "source": [
    "class roman_numeral:\n",
    "    def __init__(self):\n",
    "        pass\n",
    "    def convert(self, number):\n",
    "        values = [1000, 900, 500, 400, 100, 90, 50, 40, 10, 9, 5, 4, 1]\n",
    "        roman_symbols = ['M', 'CM', 'D', 'CD', 'C', 'XC', 'L', 'XL', 'X', 'IX', 'V', 'IV', 'I']\n",
    " \n",
    "        i = 0\n",
    "        roman_number = ''\n",
    "        while (number > 0):\n",
    "            for i in range(number//values[i]):\n",
    "                roman_number += roman_symbols[i]\n",
    "                number = number - values[i]\n",
    "            i += 1\n",
    "        return roman_number\n",
    "\n",
    "roman = roman_numeral()\n",
    "roman.convert(3523)"
   ]
  },
  {
   "cell_type": "markdown",
   "metadata": {},
   "source": [
    "Q2 Write the Python class to convert a Roman numeral to an integer?\n"
   ]
  },
  {
   "cell_type": "code",
   "execution_count": 4,
   "metadata": {},
   "outputs": [
    {
     "data": {
      "text/plain": [
       "1900"
      ]
     },
     "execution_count": 4,
     "metadata": {},
     "output_type": "execute_result"
    }
   ],
   "source": [
    "class roman_integer:\n",
    "    def __init__(self):\n",
    "        pass\n",
    "\n",
    "    def convert(self, roman_numeral):\n",
    "        values = [1000, 900, 500, 400, 100, 90, 50, 40, 10, 9, 5, 4, 1]\n",
    "        roman_symbols = ['M', 'CM', 'D', 'CD', 'C', 'XC', 'L', 'XL', 'X', 'IX', 'V', 'IV', 'I'] \n",
    "\n",
    "        _integer = 0\n",
    "        while (len (roman_numeral) > 0):\n",
    "            i = 2\n",
    "            while(i>0):\n",
    "                symbol = roman_numeral[:i]\n",
    "                is_exist = symbol in roman_symbols\n",
    "                i = i-1\n",
    "                if is_exist:\n",
    "                    index = roman_symbols.index(symbol)\n",
    "                    _integer += values[index]\n",
    "                    roman_numeral = roman_numeral[i+1:]\n",
    "                    break\n",
    "        return _integer\n",
    "\n",
    "integer = roman_integer()\n",
    "integer.convert('MCM')"
   ]
  },
  {
   "cell_type": "markdown",
   "metadata": {},
   "source": [
    "Q3. Write the Python class to find the validity of the string of the\n",
    "parentheses, '(', ')', '{', '}', '[' and '] and the brackets must be closed\n",
    "in the correct order, example - \"()\" and \"()[]{}\" are valid but \"[)\",\n",
    "\"({[)]\" and \"{{{\" are invalid.\n"
   ]
  },
  {
   "cell_type": "code",
   "execution_count": 5,
   "metadata": {},
   "outputs": [
    {
     "name": "stdout",
     "output_type": "stream",
     "text": [
      "[4 + (3 * 2)] =  valid\n",
      "[4 + (3 * 2) =  invalid\n"
     ]
    }
   ],
   "source": [
    "class string_paranth_validator:\n",
    "    def __init__(self):\n",
    "        self.items = []\n",
    "        \n",
    "    def validate(self, exp):\n",
    "\n",
    "        _valid_exp = 'valid'\n",
    "        _bracket_symbols = ['(', ')', '{', '}','[', ']']\n",
    "\n",
    "        for char in exp:\n",
    "            if char in _bracket_symbols:\n",
    "              if (_bracket_symbols.index(char) % 2 == 1) and (len(self.items) == 0):\n",
    "                  _valid_exp = 'invalid'\n",
    "                  break\n",
    "\n",
    "              elif (_bracket_symbols.index(char) % 2 == 1) and (len(self.items) != 0):\n",
    "                  if  _bracket_symbols[ _bracket_symbols.index(char) - 1 ] not in self.items:\n",
    "                      _valid_exp = 'invalid'\n",
    "                      break\n",
    "                  else:\n",
    "                      self.items.remove(_bracket_symbols[ _bracket_symbols.index(char) - 1 ])\n",
    "              else:\n",
    "                  self.items.append(char)\n",
    "        if len(self.items) != 0:\n",
    "            _valid_exp = 'invalid'\n",
    "        return _valid_exp\n",
    "    \n",
    "\n",
    "expvalidator = string_paranth_validator()\n",
    "print( '[4 + (3 * 2)] = ', expvalidator.validate('[4 + (3 * 2)]') )\n",
    "print( '[4 + (3 * 2) = ', expvalidator.validate('[4 + (3 * 2)') )"
   ]
  },
  {
   "cell_type": "markdown",
   "metadata": {},
   "source": [
    "Q4. Write the Python class to get all possible unique subsets from a set\n",
    "of distinct integers?\n",
    "\n",
    "    Input - [4, 5, 6]\n",
    "    Output - [[], [6], [5], [5, 6], [4], [4, 6], [4, 5], [4, 5, 6]]"
   ]
  },
  {
   "cell_type": "code",
   "execution_count": 6,
   "metadata": {},
   "outputs": [
    {
     "name": "stdout",
     "output_type": "stream",
     "text": [
      "[[], [6], [5], [5, 6], [4], [4, 6], [4, 5], [4, 5, 6]]\n"
     ]
    }
   ],
   "source": [
    "class pos_uniq_subset:\n",
    "    def sub_sets(self, sset):\n",
    "        return self.sub_sets_recur([], sorted(sset))\n",
    "    \n",
    "    def sub_sets_recur(self, current, sset):\n",
    "        if sset:\n",
    "            return self.sub_sets_recur(current, sset[1:]) + self.sub_sets_recur(current + [sset[0]], sset[1:])\n",
    "        return [current]\n",
    "\n",
    "print(pos_uniq_subset().sub_sets([4,5,6]))"
   ]
  },
  {
   "cell_type": "markdown",
   "metadata": {},
   "source": [
    "Q5. Write the Python class to find a pair of elements (indices of the two\n",
    "numbers) from a given array whose sum equals the specific target\n",
    "number?\n",
    "\n",
    "    Input: numbers- [10,20,10,40,50,60,70], target=50\n",
    "    Output- 3, 4"
   ]
  },
  {
   "cell_type": "code",
   "execution_count": 7,
   "metadata": {},
   "outputs": [
    {
     "data": {
      "text/plain": [
       "(1, 4)"
      ]
     },
     "execution_count": 7,
     "metadata": {},
     "output_type": "execute_result"
    }
   ],
   "source": [
    "class indices_nums:\n",
    "\n",
    "    def __init__(self):\n",
    "        pass\n",
    "    \n",
    "    def to_find_target(self, list_of_nums, target):\n",
    "\n",
    "        for index, value in enumerate(list_of_nums):\n",
    "            _sublist =  [ x + value for x in list_of_nums[:index]]\n",
    "            if target in _sublist:\n",
    "                return _sublist.index(target)+1, index+1\n",
    "        else:\n",
    "          print('no numbers with indexes to find target') \n",
    "\n",
    "addtwo_indexvalues = indices_nums()\n",
    "addtwo_indexvalues.to_find_target([10,20,10,40,50,60,70], 50)"
   ]
  },
  {
   "cell_type": "markdown",
   "metadata": {},
   "source": [
    "Q6. Write the Python class to find the three elements that sum to zero\n",
    "from the set of n real numbers?\n",
    "\n",
    "    Input array- [-25, -10, -7, -3, 2, 4, 8, 10]\n",
    "    Output - [[-10, 2, 8], [-7, -3, 10]]\n"
   ]
  },
  {
   "cell_type": "code",
   "execution_count": 8,
   "metadata": {},
   "outputs": [
    {
     "data": {
      "text/plain": [
       "[[-10, 2, 8], [-7, -3, 10]]"
      ]
     },
     "execution_count": 8,
     "metadata": {},
     "output_type": "execute_result"
    }
   ],
   "source": [
    "class three_element_sum0:\n",
    "    def __init__(self):\n",
    "        pass\n",
    "    \n",
    "    def to(self, list_of_nums, target):\n",
    "        is_exists = False\n",
    "        _list_of_triples = []\n",
    "\n",
    "        for i in range(len(list_of_nums) -2):\n",
    "            for j in range(1, len(list_of_nums)-1):\n",
    "                for k in range(2, len(list_of_nums)):\n",
    "                    if (list_of_nums[i] + list_of_nums[j] + list_of_nums[k]) == target:\n",
    "                        for subset in _list_of_triples:\n",
    "                            if( (list_of_nums[i]  in subset) and (list_of_nums[j]  in subset) and (list_of_nums[k] in subset) ):\n",
    "                                is_exists = True\n",
    "                                break\n",
    "                        if is_exists == False:\n",
    "                            _list_of_triples.append( [list_of_nums[i], list_of_nums[j], list_of_nums[k]] )\n",
    "                    is_exists = False\n",
    "        return _list_of_triples\n",
    "\n",
    "\n",
    "threelementsum = three_element_sum0()\n",
    "threelementsum.to([-25, -10, -7, -3, 2, 4, 8, 10], 0)"
   ]
  },
  {
   "cell_type": "markdown",
   "metadata": {},
   "source": [
    "Q7. Write the Python class to implement pow(x, n)?"
   ]
  },
  {
   "cell_type": "code",
   "execution_count": 10,
   "metadata": {},
   "outputs": [
    {
     "data": {
      "text/plain": [
       "27"
      ]
     },
     "execution_count": 10,
     "metadata": {},
     "output_type": "execute_result"
    }
   ],
   "source": [
    " class power_xn():\n",
    "    def __init__(self):\n",
    "        pass\n",
    "    \n",
    "    def of(self, x, n):\n",
    "        return x**n\n",
    "      \n",
    "\n",
    "power = power_xn()\n",
    "power.of(3,3)"
   ]
  },
  {
   "cell_type": "markdown",
   "metadata": {},
   "source": [
    "Q8. Write the Python class which has two methods get_String and\n",
    "print_String. get_String accept the string from the user and \n",
    "print_String print the string in upper case."
   ]
  },
  {
   "cell_type": "code",
   "execution_count": 11,
   "metadata": {},
   "outputs": [
    {
     "name": "stdout",
     "output_type": "stream",
     "text": [
      "string\n",
      "STRING\n"
     ]
    }
   ],
   "source": [
    "class string_upper:\n",
    "    def __init__(self):\n",
    "        pass\n",
    "\n",
    "    def get_String(self):\n",
    "        self.string = input()\n",
    "\n",
    "    def print_String(self):\n",
    "        print(self.string.upper())\n",
    "\n",
    "mystring = string_upper()\n",
    "mystring.get_String()\n",
    "mystring.print_String()"
   ]
  },
  {
   "cell_type": "markdown",
   "metadata": {},
   "source": [
    "Q9. Write the Python class named Rectangle constructed by a length\n",
    "and width and the method which will compute the area of the\n",
    "rectangle?"
   ]
  },
  {
   "cell_type": "code",
   "execution_count": 15,
   "metadata": {},
   "outputs": [
    {
     "name": "stdout",
     "output_type": "stream",
     "text": [
      "Area of Rectangle is 2000\n"
     ]
    }
   ],
   "source": [
    "class Rectangle:\n",
    "    def __init__(self, length, width):\n",
    "        self.length = length\n",
    "        self.width = width\n",
    "\n",
    "    def area(self):\n",
    "        return self.length * self.width\n",
    "\n",
    "rectangle = Rectangle(40,50)\n",
    "print( 'Area of Rectangle is', rectangle.area() )"
   ]
  },
  {
   "cell_type": "markdown",
   "metadata": {},
   "source": [
    "Q10. Write the Python class named Circle constructed by the radius\n",
    "and two methods which will compute the area and perimeter of\n",
    "the circle?"
   ]
  },
  {
   "cell_type": "code",
   "execution_count": 16,
   "metadata": {},
   "outputs": [
    {
     "name": "stdout",
     "output_type": "stream",
     "text": [
      "Area = 430.10837999999995\n",
      "Perimeter = 73.52279999999999\n"
     ]
    }
   ],
   "source": [
    "class Circle:\n",
    "    def __init__(self, radius):\n",
    "        self.radius = radius\n",
    "\n",
    "    def area(self):\n",
    "        return 3.142 * (self.radius * self.radius)\n",
    "\n",
    "    def perimeter(self):\n",
    "        return 2 * 3.142 * self.radius\n",
    "\n",
    "circle = Circle(11.7)\n",
    "print( 'Area =', circle.area())\n",
    "print( 'Perimeter =', circle.perimeter())"
   ]
  },
  {
   "cell_type": "markdown",
   "metadata": {},
   "source": [
    "Q11. Write the Python program to get the class name of an instance in\n",
    "Python?"
   ]
  },
  {
   "cell_type": "code",
   "execution_count": 17,
   "metadata": {},
   "outputs": [
    {
     "name": "stdout",
     "output_type": "stream",
     "text": [
      "Circle\n"
     ]
    }
   ],
   "source": [
    "class Circle:\n",
    "    def __init__(self, radius):\n",
    "        self.radius = radius\n",
    "\n",
    "    def area(self):\n",
    "        return 3.142 * (self.radius * self.radius)\n",
    "\n",
    "    def perimeter(self):\n",
    "        return 2 * 3.142 * self.radius\n",
    "\n",
    "circle = Circle(11.7)\n",
    "print(type(circle).__name__)"
   ]
  },
  {
   "cell_type": "markdown",
   "metadata": {},
   "source": [
    "Q12. Write the Python program to count the number of students of\n",
    "individual class?\n",
    "\n",
    "    Sample dataclasses = (\n",
    "    ('V', 1),\n",
    "    ('VI', 1),\n",
    "    ('V', 2),\n",
    "    ('VI', 2),\n",
    "    ('VI', 3),\n",
    "    ('VII', 1),\n",
    "    )\n",
    "    Expected OutputCounter({'VI': 3, 'V': 2, 'VII': 1})"
   ]
  },
  {
   "cell_type": "code",
   "execution_count": 18,
   "metadata": {},
   "outputs": [
    {
     "name": "stdout",
     "output_type": "stream",
     "text": [
      "Counter({'VI': 3, 'V': 2, 'VII': 1})\n"
     ]
    }
   ],
   "source": [
    "from collections import Counter\n",
    "classes = (\n",
    "    ('V', 1),\n",
    "    ('VI', 1),\n",
    "    ('V', 2),\n",
    "    ('VI', 2),\n",
    "    ('VI', 3),\n",
    "    ('VII', 1),\n",
    ")\n",
    "students = Counter(class_name for class_name, no_students in classes)\n",
    "print(students)"
   ]
  },
  {
   "cell_type": "markdown",
   "metadata": {},
   "source": [
    "## Great Job!"
   ]
  }
 ],
 "metadata": {
  "kernelspec": {
   "display_name": "Python 3",
   "language": "python",
   "name": "python3"
  },
  "language_info": {
   "codemirror_mode": {
    "name": "ipython",
    "version": 3
   },
   "file_extension": ".py",
   "mimetype": "text/x-python",
   "name": "python",
   "nbconvert_exporter": "python",
   "pygments_lexer": "ipython3",
   "version": "3.7.4"
  }
 },
 "nbformat": 4,
 "nbformat_minor": 2
}
